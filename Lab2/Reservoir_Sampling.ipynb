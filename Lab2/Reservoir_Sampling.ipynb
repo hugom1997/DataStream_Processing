{
 "cells": [
  {
   "cell_type": "markdown",
   "metadata": {},
   "source": [
    "### Pseudo Code de l'algorithme de reservoir sampling"
   ]
  },
  {
   "cell_type": "markdown",
   "metadata": {},
   "source": [
    "Initialiser un reservoir de taille **k**\n",
    "\n",
    "**Input** : ième tuple\n",
    "* Tant que des tuples arrivent : \n",
    "    * Si le reservoir n'est pas plein (<k) :\n",
    "        * ajouter le ième tuple au reservoir\n",
    "    * Sinon\n",
    "        * le ième tuple à k/i chances de rentrer dans le reservoir : calculer cette probabilité\n",
    "             * Si le ième tuple peut rentrer dans le reservoir:\n",
    "                  * Remplacer un tuple présent dans le reservoir par le ième tuple avec une loi de probabilité uniforme\n",
    "             * Sinon: \n",
    "                  * Ne rien faire (on passe au tuple suivant"
   ]
  },
  {
   "cell_type": "markdown",
   "metadata": {},
   "source": [
    "### Write a mathematical proof :\tthe\treservoir includes uniformity drawn tuples\n"
   ]
  },
  {
   "cell_type": "markdown",
   "metadata": {},
   "source": [
    "Pour i = k , la probabilité que le tuple i rentre dans le reservoir est de $$\\frac{k}{i} = 1$$\n",
    "\n",
    "En admettant que nos i premiers tuples ait été ajoutés au réservoir avec une probabilité **k/i**\n",
    "\n",
    "\n",
    "\n",
    "\n",
    "Le tuple à i+1 aura une probabilité de **k/i+1** d'être choisi tandis que chaque tuple du reservoir à **1/k** chances d'être retiré.\n",
    "\n",
    "La probabilité que le tuple i+1 remplace un tuple i du reservoir est de $$\\frac{k}{i+1} * \\frac{1}{k} = \\frac{1}{i+1}$$\n",
    "Donc la probabilité qu'un tuple ne soit pas remplacé est de $$1 - \\frac{1}{i+1} = \\frac{i}{i+1}$$\n",
    "\n",
    "Finalement, pour que chaque tuple soit présent dans le reservoir les conditions suivantes doivent être respectées : \n",
    "  * Etre choisi pour aller dans le reservoir (k/i)\n",
    "  * Ne pas être remplacé (i/i+1)\n",
    "    \n",
    "La probabilité que le chaque tuple soit dans le reservoir est donc de $$\\frac{i}{i+1}*\\frac{k}{i} = \\frac{k}{i+1}$$"
   ]
  },
  {
   "cell_type": "markdown",
   "metadata": {},
   "source": [
    "### Simulation en python"
   ]
  },
  {
   "cell_type": "code",
   "execution_count": 1,
   "metadata": {},
   "outputs": [],
   "source": [
    "from numpy.random import uniform\n",
    "import numpy as np\n",
    "from random import *"
   ]
  },
  {
   "cell_type": "code",
   "execution_count": 2,
   "metadata": {},
   "outputs": [],
   "source": [
    "class Reservoir_sampling:\n",
    "    def __init__(self, k):\n",
    "        self.k = k #Taille du réservoir\n",
    "        self.i = 0  #Index des tuples\n",
    "        self.reservoir = [] #Le reservoir\n",
    "    \n",
    "    ### process\n",
    "    # params : (int) tuple_i récupéré dans le data_stream\n",
    "    # process récupère un par un les tuples du data stream puis : \n",
    "    # - rempli le réservoir de tuple jusqu'à atteindre sa limite (self.k)\n",
    "    # - une fois la limite atteinte, le tuple à k/i chance de rentrer dans le reservoir,\n",
    "    #  puis sa probabilité de remplacer le i_ème index suis une loi uniforme.\n",
    "    ###\n",
    "    def process(self, tuple_i): \n",
    "        if len(self.reservoir)<self.k: #Tant que le reservoir n'est pas rempli\n",
    "            self.reservoir.append(tuple_i) #on ajoute le nouveau tuple\n",
    "            print('adding values ',self.reservoir)\n",
    "        else: #Le reservoir est plein,\n",
    "            add = np.random.uniform()\n",
    "            if add<(self.k/self.i): # Le tuple à k/i chance de rentrer\n",
    "                #  puis sa probabilité de remplacer le i_ème index suis une loi uniforme entre 0 et k\n",
    "                # Note : on réutilise la probabilité déjà calculée avec \"add\"\n",
    "                index = int(add*self.i)\n",
    "                print('Adding tuple ', tuple_i, ' replacing tuple ', self.reservoir[index], ' at index ', index)\n",
    "                self.reservoir[index] = tuple_i\n",
    "                print(' new_reservoir ',self.reservoir)\n",
    "        self.i+=1\n",
    "                "
   ]
  },
  {
   "cell_type": "code",
   "execution_count": 4,
   "metadata": {},
   "outputs": [
    {
     "name": "stdout",
     "output_type": "stream",
     "text": [
      "[13, 6, 45, 9, 38, 26, 71, 44, 100, 26, 8, 8, 22, 96, 53, 12, 9, 27, 75, 31, 49, 90, 59, 92, 45, 28, 0, 30, 8, 70, 38, 30, 14, 93, 32, 62, 26, 10, 99, 0, 61, 92, 30, 61, 78, 31, 9, 70, 44, 47, 5, 89, 23, 38, 83, 50, 4, 13, 54, 100, 48, 71, 48, 31, 9, 91, 47, 60, 9, 51, 71, 75, 39, 16, 66, 33, 98, 60, 3, 9, 13, 89, 3, 90, 98, 27, 23, 84, 53, 23, 12, 84, 13, 77, 80, 42, 51, 17, 13, 65]\n",
      "adding values  [13]\n",
      "adding values  [13, 6]\n",
      "adding values  [13, 6, 45]\n",
      "adding values  [13, 6, 45, 9]\n",
      "adding values  [13, 6, 45, 9, 38]\n",
      "adding values  [13, 6, 45, 9, 38, 26]\n",
      "adding values  [13, 6, 45, 9, 38, 26, 71]\n",
      "adding values  [13, 6, 45, 9, 38, 26, 71, 44]\n",
      "adding values  [13, 6, 45, 9, 38, 26, 71, 44, 100]\n",
      "adding values  [13, 6, 45, 9, 38, 26, 71, 44, 100, 26]\n",
      "Adding tuple  8  replacing tuple  71  at index  6\n",
      " new_reservoir  [13, 6, 45, 9, 38, 26, 8, 44, 100, 26]\n",
      "Adding tuple  22  replacing tuple  44  at index  7\n",
      " new_reservoir  [13, 6, 45, 9, 38, 26, 8, 22, 100, 26]\n",
      "Adding tuple  96  replacing tuple  100  at index  8\n",
      " new_reservoir  [13, 6, 45, 9, 38, 26, 8, 22, 96, 26]\n",
      "Adding tuple  12  replacing tuple  8  at index  6\n",
      " new_reservoir  [13, 6, 45, 9, 38, 26, 12, 22, 96, 26]\n",
      "Adding tuple  9  replacing tuple  96  at index  8\n",
      " new_reservoir  [13, 6, 45, 9, 38, 26, 12, 22, 9, 26]\n",
      "Adding tuple  27  replacing tuple  38  at index  4\n",
      " new_reservoir  [13, 6, 45, 9, 27, 26, 12, 22, 9, 26]\n",
      "Adding tuple  75  replacing tuple  13  at index  0\n",
      " new_reservoir  [75, 6, 45, 9, 27, 26, 12, 22, 9, 26]\n",
      "Adding tuple  31  replacing tuple  9  at index  3\n",
      " new_reservoir  [75, 6, 45, 31, 27, 26, 12, 22, 9, 26]\n",
      "Adding tuple  49  replacing tuple  75  at index  0\n",
      " new_reservoir  [49, 6, 45, 31, 27, 26, 12, 22, 9, 26]\n",
      "Adding tuple  59  replacing tuple  12  at index  6\n",
      " new_reservoir  [49, 6, 45, 31, 27, 26, 59, 22, 9, 26]\n",
      "Adding tuple  92  replacing tuple  27  at index  4\n",
      " new_reservoir  [49, 6, 45, 31, 92, 26, 59, 22, 9, 26]\n",
      "Adding tuple  28  replacing tuple  49  at index  0\n",
      " new_reservoir  [28, 6, 45, 31, 92, 26, 59, 22, 9, 26]\n",
      "Adding tuple  0  replacing tuple  6  at index  1\n",
      " new_reservoir  [28, 0, 45, 31, 92, 26, 59, 22, 9, 26]\n",
      "Adding tuple  30  replacing tuple  9  at index  8\n",
      " new_reservoir  [28, 0, 45, 31, 92, 26, 59, 22, 30, 26]\n",
      "Adding tuple  8  replacing tuple  92  at index  4\n",
      " new_reservoir  [28, 0, 45, 31, 8, 26, 59, 22, 30, 26]\n",
      "Adding tuple  30  replacing tuple  26  at index  9\n",
      " new_reservoir  [28, 0, 45, 31, 8, 26, 59, 22, 30, 30]\n",
      "Adding tuple  26  replacing tuple  31  at index  3\n",
      " new_reservoir  [28, 0, 45, 26, 8, 26, 59, 22, 30, 30]\n",
      "Adding tuple  0  replacing tuple  45  at index  2\n",
      " new_reservoir  [28, 0, 0, 26, 8, 26, 59, 22, 30, 30]\n",
      "Adding tuple  30  replacing tuple  0  at index  2\n",
      " new_reservoir  [28, 0, 30, 26, 8, 26, 59, 22, 30, 30]\n",
      "Adding tuple  78  replacing tuple  28  at index  0\n",
      " new_reservoir  [78, 0, 30, 26, 8, 26, 59, 22, 30, 30]\n",
      "Adding tuple  9  replacing tuple  26  at index  5\n",
      " new_reservoir  [78, 0, 30, 26, 8, 9, 59, 22, 30, 30]\n",
      "Adding tuple  70  replacing tuple  30  at index  8\n",
      " new_reservoir  [78, 0, 30, 26, 8, 9, 59, 22, 70, 30]\n",
      "Adding tuple  47  replacing tuple  8  at index  4\n",
      " new_reservoir  [78, 0, 30, 26, 47, 9, 59, 22, 70, 30]\n",
      "Adding tuple  60  replacing tuple  47  at index  4\n",
      " new_reservoir  [78, 0, 30, 26, 60, 9, 59, 22, 70, 30]\n",
      "Adding tuple  9  replacing tuple  30  at index  9\n",
      " new_reservoir  [78, 0, 30, 26, 60, 9, 59, 22, 70, 9]\n",
      "Adding tuple  98  replacing tuple  26  at index  3\n",
      " new_reservoir  [78, 0, 30, 98, 60, 9, 59, 22, 70, 9]\n",
      "Adding tuple  13  replacing tuple  9  at index  9\n",
      " new_reservoir  [78, 0, 30, 98, 60, 9, 59, 22, 70, 13]\n",
      "Adding tuple  3  replacing tuple  78  at index  0\n",
      " new_reservoir  [3, 0, 30, 98, 60, 9, 59, 22, 70, 13]\n",
      "Adding tuple  77  replacing tuple  13  at index  9\n",
      " new_reservoir  [3, 0, 30, 98, 60, 9, 59, 22, 70, 77]\n",
      "reservoir final  [3, 0, 30, 98, 60, 9, 59, 22, 70, 77]\n"
     ]
    }
   ],
   "source": [
    "k=10 #taille du réservoir\n",
    "res = Reservoir_sampling(k) #notre réservoir\n",
    "tuple_i = []\n",
    "\n",
    "#liste de initialisée aléatoirement entre 0 et 100\n",
    "for t in range(100):\n",
    "    tuple_i.append(randint(0, 100))\n",
    "    \n",
    "print(tuple_i)\n",
    "\n",
    "stream = 0\n",
    "while stream < len(tuple_i): #On envoi les tuples un par un\n",
    "    res.process(tuple_i[stream])\n",
    "    stream+=1\n",
    "print('reservoir final ' ,res.reservoir)"
   ]
  }
 ],
 "metadata": {
  "kernelspec": {
   "display_name": "Python 3",
   "language": "python",
   "name": "python3"
  },
  "language_info": {
   "codemirror_mode": {
    "name": "ipython",
    "version": 3
   },
   "file_extension": ".py",
   "mimetype": "text/x-python",
   "name": "python",
   "nbconvert_exporter": "python",
   "pygments_lexer": "ipython3",
   "version": "3.7.0"
  }
 },
 "nbformat": 4,
 "nbformat_minor": 2
}
